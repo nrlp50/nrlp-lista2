{
 "cells": [
  {
   "cell_type": "markdown",
   "metadata": {},
   "source": [
    "# Lista 2 de Aprendizagem de Máquina"
   ]
  },
  {
   "cell_type": "code",
   "execution_count": 114,
   "metadata": {
    "collapsed": true
   },
   "outputs": [],
   "source": [
    "import pandas as pd\n",
    "import numpy as np\n",
    "import matplotlib.pyplot as plt\n",
    "from sklearn.model_selection import StratifiedKFold\n",
    "from random import seed\n",
    "\n",
    "%matplotlib inline"
   ]
  },
  {
   "cell_type": "code",
   "execution_count": 115,
   "metadata": {},
   "outputs": [
    {
     "data": {
      "text/html": [
       "<div>\n",
       "<style>\n",
       "    .dataframe thead tr:only-child th {\n",
       "        text-align: right;\n",
       "    }\n",
       "\n",
       "    .dataframe thead th {\n",
       "        text-align: left;\n",
       "    }\n",
       "\n",
       "    .dataframe tbody tr th {\n",
       "        vertical-align: top;\n",
       "    }\n",
       "</style>\n",
       "<table border=\"1\" class=\"dataframe\">\n",
       "  <thead>\n",
       "    <tr style=\"text-align: right;\">\n",
       "      <th></th>\n",
       "      <th>loc</th>\n",
       "      <th>v(g)</th>\n",
       "      <th>ev(g)</th>\n",
       "      <th>iv(g)</th>\n",
       "      <th>n</th>\n",
       "      <th>v</th>\n",
       "      <th>l</th>\n",
       "      <th>d</th>\n",
       "      <th>i</th>\n",
       "      <th>e</th>\n",
       "      <th>...</th>\n",
       "      <th>lOCode</th>\n",
       "      <th>lOComment</th>\n",
       "      <th>lOBlank</th>\n",
       "      <th>locCodeAndComment</th>\n",
       "      <th>uniq_Op</th>\n",
       "      <th>uniq_Opnd</th>\n",
       "      <th>total_Op</th>\n",
       "      <th>total_Opnd</th>\n",
       "      <th>branchCount</th>\n",
       "      <th>defects</th>\n",
       "    </tr>\n",
       "  </thead>\n",
       "  <tbody>\n",
       "    <tr>\n",
       "      <th>0</th>\n",
       "      <td>0.000348</td>\n",
       "      <td>0.009091</td>\n",
       "      <td>0.016</td>\n",
       "      <td>0.009091</td>\n",
       "      <td>0.001175</td>\n",
       "      <td>0.000164</td>\n",
       "      <td>0.650</td>\n",
       "      <td>0.024186</td>\n",
       "      <td>0.006734</td>\n",
       "      <td>0.000004</td>\n",
       "      <td>...</td>\n",
       "      <td>0.007634</td>\n",
       "      <td>0.045455</td>\n",
       "      <td>0.034483</td>\n",
       "      <td>0.166667</td>\n",
       "      <td>0.032432</td>\n",
       "      <td>0.010000</td>\n",
       "      <td>0.001770</td>\n",
       "      <td>0.002804</td>\n",
       "      <td>0.004545</td>\n",
       "      <td>0</td>\n",
       "    </tr>\n",
       "    <tr>\n",
       "      <th>1</th>\n",
       "      <td>0.000000</td>\n",
       "      <td>0.000000</td>\n",
       "      <td>0.000</td>\n",
       "      <td>0.000000</td>\n",
       "      <td>0.000904</td>\n",
       "      <td>0.000126</td>\n",
       "      <td>0.500</td>\n",
       "      <td>0.018605</td>\n",
       "      <td>0.005180</td>\n",
       "      <td>0.000003</td>\n",
       "      <td>...</td>\n",
       "      <td>0.003817</td>\n",
       "      <td>0.022727</td>\n",
       "      <td>0.017241</td>\n",
       "      <td>0.083333</td>\n",
       "      <td>0.027027</td>\n",
       "      <td>0.008333</td>\n",
       "      <td>0.001475</td>\n",
       "      <td>0.002336</td>\n",
       "      <td>0.000000</td>\n",
       "      <td>1</td>\n",
       "    </tr>\n",
       "    <tr>\n",
       "      <th>2</th>\n",
       "      <td>0.285714</td>\n",
       "      <td>0.227273</td>\n",
       "      <td>0.000</td>\n",
       "      <td>0.227273</td>\n",
       "      <td>0.154611</td>\n",
       "      <td>0.117175</td>\n",
       "      <td>0.020</td>\n",
       "      <td>0.428651</td>\n",
       "      <td>0.208588</td>\n",
       "      <td>0.065820</td>\n",
       "      <td>...</td>\n",
       "      <td>0.248092</td>\n",
       "      <td>0.227273</td>\n",
       "      <td>0.103448</td>\n",
       "      <td>0.000000</td>\n",
       "      <td>0.486486</td>\n",
       "      <td>0.208333</td>\n",
       "      <td>0.157817</td>\n",
       "      <td>0.149533</td>\n",
       "      <td>0.227273</td>\n",
       "      <td>1</td>\n",
       "    </tr>\n",
       "    <tr>\n",
       "      <th>3</th>\n",
       "      <td>0.156794</td>\n",
       "      <td>0.159091</td>\n",
       "      <td>0.200</td>\n",
       "      <td>0.159091</td>\n",
       "      <td>0.127486</td>\n",
       "      <td>0.097209</td>\n",
       "      <td>0.035</td>\n",
       "      <td>0.276465</td>\n",
       "      <td>0.268362</td>\n",
       "      <td>0.035211</td>\n",
       "      <td>...</td>\n",
       "      <td>0.141221</td>\n",
       "      <td>0.045455</td>\n",
       "      <td>0.086207</td>\n",
       "      <td>0.000000</td>\n",
       "      <td>0.432432</td>\n",
       "      <td>0.233333</td>\n",
       "      <td>0.131268</td>\n",
       "      <td>0.121495</td>\n",
       "      <td>0.159091</td>\n",
       "      <td>1</td>\n",
       "    </tr>\n",
       "    <tr>\n",
       "      <th>4</th>\n",
       "      <td>0.083624</td>\n",
       "      <td>0.045455</td>\n",
       "      <td>0.000</td>\n",
       "      <td>0.045455</td>\n",
       "      <td>0.052441</td>\n",
       "      <td>0.032170</td>\n",
       "      <td>0.055</td>\n",
       "      <td>0.173953</td>\n",
       "      <td>0.141148</td>\n",
       "      <td>0.007334</td>\n",
       "      <td>...</td>\n",
       "      <td>0.080153</td>\n",
       "      <td>0.000000</td>\n",
       "      <td>0.034483</td>\n",
       "      <td>0.000000</td>\n",
       "      <td>0.297297</td>\n",
       "      <td>0.083333</td>\n",
       "      <td>0.060472</td>\n",
       "      <td>0.039720</td>\n",
       "      <td>0.045455</td>\n",
       "      <td>1</td>\n",
       "    </tr>\n",
       "  </tbody>\n",
       "</table>\n",
       "<p>5 rows × 22 columns</p>\n",
       "</div>"
      ],
      "text/plain": [
       "        loc      v(g)  ev(g)     iv(g)         n         v      l         d  \\\n",
       "0  0.000348  0.009091  0.016  0.009091  0.001175  0.000164  0.650  0.024186   \n",
       "1  0.000000  0.000000  0.000  0.000000  0.000904  0.000126  0.500  0.018605   \n",
       "2  0.285714  0.227273  0.000  0.227273  0.154611  0.117175  0.020  0.428651   \n",
       "3  0.156794  0.159091  0.200  0.159091  0.127486  0.097209  0.035  0.276465   \n",
       "4  0.083624  0.045455  0.000  0.045455  0.052441  0.032170  0.055  0.173953   \n",
       "\n",
       "          i         e   ...       lOCode  lOComment   lOBlank  \\\n",
       "0  0.006734  0.000004   ...     0.007634   0.045455  0.034483   \n",
       "1  0.005180  0.000003   ...     0.003817   0.022727  0.017241   \n",
       "2  0.208588  0.065820   ...     0.248092   0.227273  0.103448   \n",
       "3  0.268362  0.035211   ...     0.141221   0.045455  0.086207   \n",
       "4  0.141148  0.007334   ...     0.080153   0.000000  0.034483   \n",
       "\n",
       "   locCodeAndComment   uniq_Op  uniq_Opnd  total_Op  total_Opnd  branchCount  \\\n",
       "0           0.166667  0.032432   0.010000  0.001770    0.002804     0.004545   \n",
       "1           0.083333  0.027027   0.008333  0.001475    0.002336     0.000000   \n",
       "2           0.000000  0.486486   0.208333  0.157817    0.149533     0.227273   \n",
       "3           0.000000  0.432432   0.233333  0.131268    0.121495     0.159091   \n",
       "4           0.000000  0.297297   0.083333  0.060472    0.039720     0.045455   \n",
       "\n",
       "   defects  \n",
       "0        0  \n",
       "1        1  \n",
       "2        1  \n",
       "3        1  \n",
       "4        1  \n",
       "\n",
       "[5 rows x 22 columns]"
      ]
     },
     "execution_count": 115,
     "metadata": {},
     "output_type": "execute_result"
    }
   ],
   "source": [
    "kc1 = pd.read_csv('KC1.csv')\n",
    "cm1 = pd.read_csv('CM1.csv')\n",
    "K = [1,3]\n",
    "\n",
    "kc1 = (kc1 - kc1.min())/(kc1.max() - kc1.min())\n",
    "cm1 = (cm1 - cm1.min())/(cm1.max() - cm1.min())\n",
    "\n",
    "kc1['defects'] = kc1.defects.astype('category').cat.codes\n",
    "cm1['defects'] = cm1.defects.astype('category').cat.codes\n",
    "\n",
    "kc1.head()"
   ]
  },
  {
   "cell_type": "markdown",
   "metadata": {},
   "source": [
    "# Implementação dos LVQ's"
   ]
  },
  {
   "cell_type": "code",
   "execution_count": 116,
   "metadata": {
    "collapsed": true
   },
   "outputs": [],
   "source": [
    "def mult(alfa, v):\n",
    "    return tuple([alfa * x for x in v])\n",
    "\n",
    "\n",
    "def add(x,y):\n",
    "    z = list(zip(x,y))\n",
    "    return tuple([a+b for a,b in z])\n",
    "    \n",
    "def sub(x,y):\n",
    "    z = list(zip(x,y))\n",
    "    return tuple([a-b for a,b in z])\n",
    "    "
   ]
  },
  {
   "cell_type": "code",
   "execution_count": 117,
   "metadata": {
    "collapsed": true
   },
   "outputs": [],
   "source": [
    "import operator\n",
    "\n",
    "def euclidean_distance(x,y):\n",
    "    z = list(zip(x,y))\n",
    "    ret = 0\n",
    "    for a,b in z:\n",
    "        ret += (a-b)**2\n",
    "    return ret\n",
    "    \n",
    "\n",
    "def knn(x,P,k):\n",
    "    distance = [(euclidean_distance(x,y), i) for i,y in enumerate(P)]\n",
    "    distance = sorted(distance, key=operator.itemgetter(0))\n",
    "    \n",
    "    return distance[0:k]"
   ]
  },
  {
   "cell_type": "code",
   "execution_count": 118,
   "metadata": {
    "collapsed": true
   },
   "outputs": [],
   "source": [
    "def lvq1(X, y, P, Py):\n",
    "    alfa = 0.1\n",
    "    for t in range(100):\n",
    "        for k,x in enumerate(X):\n",
    "            nn = knn(x, P.copy(), 1)\n",
    "            i = nn[0][1]\n",
    "            ei = P[i]\n",
    "            if Py[i] == y[k]:\n",
    "                P[i] = add(ei,mult(alfa, sub(x, ei)))\n",
    "            else:\n",
    "                P[i] = sub(ei,mult(alfa, sub(x, ei)))\n",
    "        \n",
    "        alfa = alfa/(1 + alfa)\n",
    "    \n",
    "    return P"
   ]
  },
  {
   "cell_type": "code",
   "execution_count": 119,
   "metadata": {
    "collapsed": true
   },
   "outputs": [],
   "source": [
    "def lvq2(X, y, P, Py):\n",
    "    alfa = 0.1\n",
    "    w = 0.3\n",
    "    s = (1 - w) / (1 + w)\n",
    "    P = lvq1(X, y, P, Py)\n",
    "    for t in range(100):\n",
    "        for k, x in enumerate(X):\n",
    "            nn = knn(x, P.copy(), 2)\n",
    "            \n",
    "            di,i = nn[0][0], nn[0][1]\n",
    "            dj,j = nn[1][0], nn[1][1]\n",
    "            \n",
    "            window = min(di,dj)/max(di,dj) \n",
    "            \n",
    "            if(window > s):\n",
    "                if(Py[i] != Py[j]):\n",
    "                    if(Py[i] == y[k]):\n",
    "                        P[i] = add(P[i],mult(alfa, sub(x, P[i])))\n",
    "                        P[j] = sub(P[j],mult(alfa, sub(x, P[j])))\n",
    "                    else:\n",
    "                        P[i] = sub(P[i],mult(alfa, sub(x, P[i])))\n",
    "                        P[j] = add(P[j],mult(alfa, sub(x, P[j])))\n",
    "        \n",
    "        alfa = alfa/(1 + alfa)\n",
    "    return P"
   ]
  },
  {
   "cell_type": "code",
   "execution_count": 155,
   "metadata": {
    "collapsed": true
   },
   "outputs": [],
   "source": [
    "def lvq3(X,y,P,Py):\n",
    "    alfa = 0.1\n",
    "    w = 0.3\n",
    "    s = (1-w) / (1+w)\n",
    "    P = lvq1(X,y,P.copy(),Py)\n",
    "    epsilon  = 0.4\n",
    "    for t in range(100):\n",
    "        for k,x in enumerate(X):\n",
    "            nn = knn(x,P.copy(),2)\n",
    "            \n",
    "            di,i = nn[0][0], nn[0][1]\n",
    "            dj,j = nn[1][0], nn[1][1]\n",
    "            \n",
    "            window = min(di,dj)/max(di,dj)\n",
    "            \n",
    "            if(window > s):\n",
    "                if(Py[i] != Py[j]):\n",
    "                    if(Py[i] == y[k]):\n",
    "                        P[i] = add(P[i],mult(alfa, sub(x, P[i])))\n",
    "                        P[j] = sub(P[j],mult(alfa, sub(x, P[j])))\n",
    "                    else:\n",
    "                        P[i] = sub(P[i],mult(alfa, sub(x, P[i])))\n",
    "                        P[j] = add(P[j],mult(alfa, sub(x, P[j])))\n",
    "                elif(Py[i] == Py[j] and Py[i] == y[k]):\n",
    "                    P[i] = add(P[i], mult( epsilon, mult(alfa, sub(x, P[i]))))\n",
    "                    P[j] = add(P[j], mult( epsilon, mult(alfa, sub(x, P[j]))))\n",
    "                \n",
    "        alfa = alfa/(1+alfa)\n",
    "    return P"
   ]
  },
  {
   "cell_type": "code",
   "execution_count": 121,
   "metadata": {
    "collapsed": true
   },
   "outputs": [],
   "source": [
    "def get_accuracy(lista):\n",
    "    x, y = zip(*lista)\n",
    "    \n",
    "    return (np.mean(list(x)), np.mean(list(y)))"
   ]
  },
  {
   "cell_type": "code",
   "execution_count": 156,
   "metadata": {
    "collapsed": true
   },
   "outputs": [],
   "source": [
    "from sklearn.neighbors import KNeighborsClassifier\n",
    "\n",
    "\n",
    "def lvq_k_fold(X,y,num, lvq):\n",
    "\n",
    "    skf = StratifiedKFold(n_splits=5)\n",
    "    accuracies = []\n",
    "    for train_index, test_index in skf.split(X, y):\n",
    "        \n",
    "        X_train, X_test = X.iloc[train_index], X.iloc[test_index]\n",
    "        y_train, y_test = y.iloc[train_index], y.iloc[test_index]\n",
    "        \n",
    "        \n",
    "        df = X_train.join(y_train)\n",
    "        target = list(df)[-1]\n",
    "        P = df.groupby(target).apply(lambda x: x.sample(n=num)).reset_index(level=0, drop=True)\n",
    "\n",
    "        Py = list(P[target])\n",
    "        P.drop(list(P)[-1],inplace = True, axis=1)\n",
    "        P = list(P.itertuples(index=False))\n",
    "\n",
    "        prototypes = lvq(list(X_train.itertuples(index=False)), list(y_train), P, Py)\n",
    "\n",
    "\n",
    "        P = pd.DataFrame(data=prototypes)\n",
    "        P.reset_index(drop=True, inplace=True)\n",
    "\n",
    "\n",
    "        Py = pd.Series(Py)\n",
    "        Py.reset_index(drop=True, inplace=True)\n",
    "        \n",
    "        accuracy = []\n",
    "        for k in K:\n",
    "            tP = P.values.copy()\n",
    "            tX_test = X_test.values.copy()\n",
    "            tPy = Py.values.copy()\n",
    "            \n",
    "            neigh = KNeighborsClassifier(n_neighbors=k)\n",
    "            \n",
    "            neigh.fit(tP, tPy)\n",
    "\n",
    "            predicted = neigh.predict(tX_test)\n",
    "            \n",
    "            matrix = pd.crosstab(predicted, y_test).values\n",
    "            accuracy.append((np.sum(matrix.diagonal()))/X_test.shape[0])\n",
    "            \n",
    "        accuracies.append(tuple(accuracy))\n",
    "            \n",
    "        \n",
    "    return get_accuracy(accuracies)"
   ]
  },
  {
   "cell_type": "code",
   "execution_count": 123,
   "metadata": {
    "collapsed": true
   },
   "outputs": [],
   "source": [
    "def start_lvq_k_fold(train, lvq):\n",
    "      \n",
    "    accuracy = []\n",
    "    target = list(train)[-1]\n",
    "    X = train.drop(target, axis=1)\n",
    "    y = train[target]\n",
    "    for i in range(2,10):\n",
    "        accuracy.append(lvq_k_fold(X, y, i, lvq))\n",
    "\n",
    "    return accuracy"
   ]
  },
  {
   "cell_type": "code",
   "execution_count": 124,
   "metadata": {
    "collapsed": true
   },
   "outputs": [],
   "source": [
    "def plot_(accuracy, ax,title):\n",
    "    x,y = zip(*accuracy)\n",
    "    p = list(range(2,10))\n",
    "    ax.plot( p , y,'r-',label='K = 1')\n",
    "    ax.plot( p , x,'b-',label='K = 3')\n",
    "    ax.legend()\n",
    "    ax.set_title(title)\n",
    "    ax.set_xlabel('Prototypes per class')\n",
    "    ax.set_ylabel('Accuracy')"
   ]
  },
  {
   "cell_type": "markdown",
   "metadata": {},
   "source": [
    "# Analisando o LVQ1"
   ]
  },
  {
   "cell_type": "code",
   "execution_count": 125,
   "metadata": {},
   "outputs": [],
   "source": [
    "accuracy = start_lvq_k_fold(kc1,lvq1)\n",
    "accuracy2 = start_lvq_k_fold(cm1,lvq1)"
   ]
  },
  {
   "cell_type": "code",
   "execution_count": 131,
   "metadata": {},
   "outputs": [
    {
     "data": {
      "image/png": "[encoded data removed]",
      "text/plain": [
       "<matplotlib.figure.Figure at 0x113b1f6a0>"
      ]
     },
     "metadata": {},
     "output_type": "display_data"
    }
   ],
   "source": [
    "f = plt.figure(figsize=(12,5))\n",
    "ax = f.add_subplot(121)\n",
    "ax2 = f.add_subplot(122)\n",
    "plot_(accuracy,ax, 'KC1')\n",
    "plot_(accuracy2,ax2, 'CM1')\n",
    "plt.show()"
   ]
  },
  {
   "cell_type": "markdown",
   "metadata": {},
   "source": [
    "# Analisando o LVQ2.1"
   ]
  },
  {
   "cell_type": "code",
   "execution_count": 127,
   "metadata": {
    "collapsed": true
   },
   "outputs": [],
   "source": [
    "accuracy_lvq2 = start_lvq_k_fold(kc1,lvq2)\n",
    "accuracy2_lvq2 = start_lvq_k_fold(cm1,lvq2)"
   ]
  },
  {
   "cell_type": "code",
   "execution_count": 128,
   "metadata": {},
   "outputs": [
    {
     "data": {
      "image/png": "[encoded data removed]",
      "text/plain": [
       "<matplotlib.figure.Figure at 0x10fd077f0>"
      ]
     },
     "metadata": {},
     "output_type": "display_data"
    }
   ],
   "source": [
    "f = plt.figure(figsize=(12,5))\n",
    "ax = f.add_subplot(121)\n",
    "ax2 = f.add_subplot(122)\n",
    "plot_(accuracy_lvq2,ax, 'KC1')\n",
    "plot_(accuracy2_lvq2,ax2, 'CM1')\n",
    "plt.show()"
   ]
  },
  {
   "cell_type": "markdown",
   "metadata": {},
   "source": [
    "# Analisando o LVQ3"
   ]
  },
  {
   "cell_type": "code",
   "execution_count": 157,
   "metadata": {
    "collapsed": true
   },
   "outputs": [],
   "source": [
    "accuracy_lvq3 = start_lvq_k_fold(kc1,lvq3)\n",
    "accuracy2_lvq3 = start_lvq_k_fold(cm1,lvq3)"
   ]
  },
  {
   "cell_type": "code",
   "execution_count": 158,
   "metadata": {},
   "outputs": [
    {
     "data": {
      "image/png": "[encoded data removed]",
      "text/plain": [
       "<matplotlib.figure.Figure at 0x113947a58>"
      ]
     },
     "metadata": {},
     "output_type": "display_data"
    }
   ],
   "source": [
    "f = plt.figure(figsize=(12,5))\n",
    "ax = f.add_subplot(121)\n",
    "ax2 = f.add_subplot(122)\n",
    "plot_(accuracy_lvq3,ax, 'KC1')\n",
    "plot_(accuracy2_lvq3,ax2, 'CM1')\n",
    "plt.show()"
   ]
  },
  {
   "cell_type": "markdown",
   "metadata": {},
   "source": [
    "# KNN sem seleção de protótipos"
   ]
  },
  {
   "cell_type": "code",
   "execution_count": 141,
   "metadata": {
    "collapsed": true
   },
   "outputs": [],
   "source": [
    "def start_knn_k_fold(train):\n",
    "    target = list(train)[-1]\n",
    "    X = train.drop(target, axis = 1)\n",
    "    y = train[target]\n",
    "    skf = StratifiedKFold(n_splits=5)\n",
    "    accuracies = []\n",
    "    for train_index, test_index in skf.split(X, y):\n",
    "        X_train, X_test = X.iloc[train_index], X.iloc[test_index]\n",
    "        y_train, y_test = y.iloc[train_index], y.iloc[test_index]\n",
    "        \n",
    "        accuracy = []\n",
    "        for k in K:\n",
    "            tX_train = X_train.values.copy()\n",
    "            tX_test = X_test.values.copy()\n",
    "            ty_train = y_train.values.copy()\n",
    "            \n",
    "            neigh = KNeighborsClassifier(n_neighbors=k)\n",
    "            \n",
    "            neigh.fit(tX_train, ty_train)\n",
    "\n",
    "            predicted = neigh.predict(tX_test)\n",
    "            \n",
    "            matrix = pd.crosstab(predicted, y_test).values\n",
    "            accuracy.append((np.sum(matrix.diagonal()))/X_test.shape[0])\n",
    "            \n",
    "        accuracies.append(tuple(accuracy))\n",
    "            \n",
    "        \n",
    "    return get_accuracy(accuracies)"
   ]
  },
  {
   "cell_type": "code",
   "execution_count": 135,
   "metadata": {},
   "outputs": [],
   "source": [
    "accuracy_1 = start_knn_k_fold(kc1)\n",
    "accuracy_2 = start_knn_k_fold(cm1)"
   ]
  },
  {
   "cell_type": "code",
   "execution_count": 143,
   "metadata": {},
   "outputs": [],
   "source": [
    "def plot_2(accuracy, ax, title):\n",
    "    ax.plot( K, accuracy,'b-')\n",
    "    ax.set_title(title)\n",
    "    ax.set_xlabel('K')\n",
    "    ax.set_ylabel('Accuracy')\n"
   ]
  },
  {
   "cell_type": "code",
   "execution_count": 154,
   "metadata": {},
   "outputs": [
    {
     "data": {
      "image/png": "[encoded data removed]",
      "text/plain": [
       "<matplotlib.figure.Figure at 0x112e1e2e8>"
      ]
     },
     "metadata": {},
     "output_type": "display_data"
    }
   ],
   "source": [
    "f = plt.figure(figsize=(12,5))\n",
    "ax = f.add_subplot(121)\n",
    "ax2 = f.add_subplot(122)\n",
    "plot_2(accuracy_1,ax, 'KC1')\n",
    "plot_2(accuracy_2,ax2, 'CM1')\n",
    "\n",
    "plt.show()"
   ]
  }
 ],
 "metadata": {
  "kernelspec": {
   "display_name": "Python 3",
   "language": "python",
   "name": "python3"
  },
  "language_info": {
   "codemirror_mode": {
    "name": "ipython",
    "version": 3
   },
   "file_extension": ".py",
   "mimetype": "text/x-python",
   "name": "python",
   "nbconvert_exporter": "python",
   "pygments_lexer": "ipython3",
   "version": "3.6.5"
  }
 },
 "nbformat": 4,
 "nbformat_minor": 2
}
